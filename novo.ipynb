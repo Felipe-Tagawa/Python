{
 "cells": [
  {
   "cell_type": "markdown",
   "metadata": {},
   "source": [
    "Como Printar:"
   ]
  },
  {
   "cell_type": "code",
   "execution_count": 2,
   "metadata": {},
   "outputs": [
    {
     "name": "stdout",
     "output_type": "stream",
     "text": [
      "ola\n"
     ]
    }
   ],
   "source": [
    "print (\"ola\")"
   ]
  },
  {
   "cell_type": "markdown",
   "metadata": {},
   "source": [
    "Entrada de dados:"
   ]
  },
  {
   "cell_type": "code",
   "execution_count": 10,
   "metadata": {},
   "outputs": [
    {
     "name": "stdout",
     "output_type": "stream",
     "text": [
      "Felipe\n",
      "19\n",
      "Meu nome eh: Felipe e tenho 19 anos\n"
     ]
    }
   ],
   "source": [
    "nome = input(\"Escreva seu nome aqui: \")\n",
    "print(nome)\n",
    "\n",
    "idade = int(input(\"Escreva a sua idade: \"))\n",
    "print(idade)\n",
    "\n",
    "# juntando tudo:\n",
    "\n",
    "print(\"Meu nome eh: \" + nome + \" e tenho \" + str(idade) + \" anos.\")"
   ]
  },
  {
   "cell_type": "markdown",
   "metadata": {},
   "source": [
    "Estruturas de Decisão:"
   ]
  },
  {
   "cell_type": "code",
   "execution_count": 12,
   "metadata": {},
   "outputs": [
    {
     "name": "stdout",
     "output_type": "stream",
     "text": [
      "Felipe\n",
      "19\n",
      "Seu nome é Felipe e voce eh maior de idade\n"
     ]
    }
   ],
   "source": [
    "nome = input(\"Escreva seu nome: \")\n",
    "print(nome)\n",
    "idade = int(input(\"Escreva sua idade aqui: \"))\n",
    "print(idade)\n",
    "\n",
    "if(nome == \"Felipe\" and idade == 19):\n",
    "    print(\"Seu nome é Felipe e voce é maior de idade\")\n",
    "elif(nome != \"Felipe\" and idade < 18 and idade > 12):\n",
    "    print(\"Seu nome não é Felioe e voce é adolescente\")\n",
    "else:\n",
    "    print(\"Seu nome nao é Felipe e voce é criança\")"
   ]
  },
  {
   "cell_type": "markdown",
   "metadata": {},
   "source": [
    "Estruturas de Repetição (while) :"
   ]
  },
  {
   "cell_type": "code",
   "execution_count": 13,
   "metadata": {},
   "outputs": [
    {
     "name": "stdout",
     "output_type": "stream",
     "text": [
      "18\n",
      "15\n",
      "16\n",
      "0\n"
     ]
    }
   ],
   "source": [
    "while idade != 0:\n",
    "    idade = int(input(\"Escreva aqui a sua idade:\"))\n",
    "    print(idade)"
   ]
  },
  {
   "cell_type": "markdown",
   "metadata": {},
   "source": [
    "Estruturas de Repetição (For): Tristeza com listas"
   ]
  },
  {
   "cell_type": "code",
   "execution_count": 4,
   "metadata": {},
   "outputs": [
    {
     "name": "stdout",
     "output_type": "stream",
     "text": [
      "sabonete\n",
      "morango\n",
      "goiaba\n",
      "macarrão\n",
      "Potuguês: 7\n",
      "Matemática: 9\n",
      "Lógica: 7\n",
      "Algoritmo: 7\n",
      "0\n",
      "1\n",
      "2\n",
      "3\n",
      "4\n",
      "Índice = 0 | Valor = Processador\n",
      "Índice = 1 | Valor = Teclado\n",
      "Índice = 2 | Valor = Mouse\n"
     ]
    }
   ],
   "source": [
    "lista_de_compras = [\"sabonete\", \"morango\", \"goiaba\", \"macarrão\"]\n",
    "\n",
    "for item in lista_de_compras:\n",
    "    print(item)\n",
    "\n",
    "# Dicionário:\n",
    "notas = {\n",
    "    'Potuguês': 7, \n",
    "    'Matemática': 9, \n",
    "    'Lógica': 7, \n",
    "    'Algoritmo': 7\n",
    "}\n",
    "\n",
    "for chave, valor in notas.items():\n",
    "    print(f\"{chave}: {valor}\")\n",
    "\n",
    "\n",
    "\n",
    "for num in range(10):\n",
    "    if(num == 5):\n",
    "        break\n",
    "\n",
    "    print(num)\n",
    "    num += 1\n",
    "\n",
    "\n",
    "#Enumerate coloca um contador embutido no for***\n",
    "computador = ['Processador', 'Teclado', 'Mouse']\n",
    "for indice, valor in enumerate(computador):\n",
    "    print(f\"Índice = {indice} | Valor = {valor}\")"
   ]
  },
  {
   "cell_type": "markdown",
   "metadata": {},
   "source": [
    "Listas de dados:"
   ]
  },
  {
   "cell_type": "code",
   "execution_count": 10,
   "metadata": {},
   "outputs": [
    {
     "name": "stdout",
     "output_type": "stream",
     "text": [
      "1\n",
      "2\n",
      "2\n",
      "4\n",
      "5\n",
      "7\n",
      "7\n",
      "8\n",
      "9\n",
      "Thiago\n",
      "Samuel\n",
      "Paulo\n",
      "Newton\n",
      "Beatriz\n",
      "Ana\n"
     ]
    }
   ],
   "source": [
    "lista_desordenada = [1,4,2,7,5,2,8,7,9]\n",
    "\n",
    "lista_desordenada.sort()\n",
    "for valores in lista_desordenada:\n",
    "    print(valores)\n",
    "\n",
    "\n",
    "lista_desordenada_nomes = [\"Paulo\", \"Ana\", \"Samuel\", \"Beatriz\", \"Thiago\", \"Newton\"]\n",
    "\n",
    "lista_desordenada_nomes.sort(reverse=True)\n",
    "for valores in lista_desordenada_nomes:\n",
    "    print(valores)"
   ]
  },
  {
   "cell_type": "markdown",
   "metadata": {},
   "source": [
    "Dicionários:"
   ]
  },
  {
   "cell_type": "code",
   "execution_count": null,
   "metadata": {},
   "outputs": [
    {
     "name": "stdout",
     "output_type": "stream",
     "text": [
      "Pedro é maior de idade\n"
     ]
    }
   ],
   "source": [
    "Pessoa = [\n",
    "\n",
    "    {\"nome\" : \"Felipe\", \"idade\" : 19},\n",
    "    {\"nome\" : \"Bob\", \"idade\" : 10},\n",
    "    {\"nome\" : \"Cereja\", \"idade\" : 45}\n",
    "]\n",
    "\n",
    "Pessoa.append({\"nome\" : \"Pedro\", \"idade\" : 25})\n",
    "\n",
    "Pessoa.remove({\"nome\" : \"Cereja\", \"idade\" : 45}) # Apaga a Cereja.\n",
    "Pessoa.pop(0) # Apaga o Felipe.\n",
    "\n",
    "existe = False\n",
    "\n",
    "for i in range(len(Pessoa)):\n",
    "    if(Pessoa[i][\"idade\"] > 18):\n",
    "        print(f\"{Pessoa[i]['nome']} é maior de idade\")\n",
    "        existe = True\n",
    "\n",
    "if(existe == False):\n",
    "   print(\"Não tem ninguém maior de idade\")"
   ]
  },
  {
   "cell_type": "markdown",
   "metadata": {},
   "source": [
    "Funções:"
   ]
  },
  {
   "cell_type": "code",
   "execution_count": 38,
   "metadata": {},
   "outputs": [
    {
     "name": "stdout",
     "output_type": "stream",
     "text": [
      "15\n",
      "5\n",
      "74\n"
     ]
    }
   ],
   "source": [
    "def soma(a1,a2):\n",
    "    soma = a1 + a2\n",
    "    global sub\n",
    "    sub = a1 - a2\n",
    "    return soma\n",
    "\n",
    "def soma_idade(Pessoa):\n",
    "    soma_age = 0\n",
    "    for i in range(len(Pessoa)):\n",
    "        soma_age += Pessoa[i]['idade']\n",
    "    return soma_age\n",
    "\n",
    "a1 = 10\n",
    "a2 = 5\n",
    "\n",
    "print(soma(a1,a2))\n",
    "print(sub)\n",
    "\n",
    "Pessoa = [\n",
    "\n",
    "    {\"nome\" : \"Felipe\", \"idade\" : 19},\n",
    "    {\"nome\" : \"Bob\", \"idade\" : 10},\n",
    "    {\"nome\" : \"Cereja\", \"idade\" : 45}\n",
    "]\n",
    "\n",
    "for i in range(len(Pessoa)):\n",
    "    valor_total = soma_idade(Pessoa)\n",
    "\n",
    "print(valor_total)\n"
   ]
  }
 ],
 "metadata": {
  "kernelspec": {
   "display_name": "Python 3",
   "language": "python",
   "name": "python3"
  },
  "language_info": {
   "codemirror_mode": {
    "name": "ipython",
    "version": 3
   },
   "file_extension": ".py",
   "mimetype": "text/x-python",
   "name": "python",
   "nbconvert_exporter": "python",
   "pygments_lexer": "ipython3",
   "version": "3.11.9"
  }
 },
 "nbformat": 4,
 "nbformat_minor": 2
}
